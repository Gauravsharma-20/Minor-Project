{
 "cells": [
  {
   "cell_type": "code",
   "execution_count": 2,
   "metadata": {},
   "outputs": [],
   "source": [
    "import cv2\n",
    "img = cv2.imread('1_low.jpg') #load rgb image\n",
    "hsv = cv2.cvtColor(img, cv2.COLOR_BGR2HSV) #convert it to hsv\n",
    "\n",
    "value = 2\n",
    "hsv[:,:,2] += value\n",
    "\n",
    "img = cv2.cvtColor(hsv, cv2.COLOR_HSV2BGR)\n",
    "cv2.imshow('Original image',img)\n",
    "#cv2.imwrite(\"image_processed.jpg\", img)"
   ]
  },
  {
   "cell_type": "code",
   "execution_count": null,
   "metadata": {},
   "outputs": [],
   "source": [
    "import cv2\n",
    "   \n",
    "image = cv2.imread('1_low.jpg')\n",
    "hsvImage = cv2.cvtColor(image, cv2.COLOR_BGR2HSV)\n",
    " \n",
    "cv2.imshow('Original image',image)\n",
    "cv2.imshow('HSV image', hsvImage)\n",
    "   \n",
    "cv2.waitKey(0)\n",
    "cv2.destroyAllWindows()"
   ]
  },
  {
   "cell_type": "code",
   "execution_count": null,
   "metadata": {
    "scrolled": true
   },
   "outputs": [],
   "source": [
    "import cv2 as cv\n",
    " \n",
    "#img = cv.imread('1.png')\n",
    "src = cv.imread('1_low.png')\n",
    "#print(img)"
   ]
  },
  {
   "cell_type": "code",
   "execution_count": null,
   "metadata": {},
   "outputs": [],
   "source": [
    "src = cv.cvtColor(src, cv.COLOR_BGR2GRAY)\n",
    "#img = cv.cvtColor(img, cv.COLOR_BGR2GRAY)\n",
    "dst = cv.equalizeHist(src)\n"
   ]
  }
 ],
 "metadata": {
  "kernelspec": {
   "display_name": "Python 3",
   "language": "python",
   "name": "python3"
  },
  "language_info": {
   "codemirror_mode": {
    "name": "ipython",
    "version": 3
   },
   "file_extension": ".py",
   "mimetype": "text/x-python",
   "name": "python",
   "nbconvert_exporter": "python",
   "pygments_lexer": "ipython3",
   "version": "3.7.4"
  }
 },
 "nbformat": 4,
 "nbformat_minor": 4
}