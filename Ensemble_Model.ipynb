{
  "nbformat": 4,
  "nbformat_minor": 0,
  "metadata": {
    "colab": {
      "name": "Ensemble_Model.ipynb",
      "provenance": [],
      "collapsed_sections": []
    },
    "kernelspec": {
      "name": "python3",
      "display_name": "Python 3"
    },
    "accelerator": "GPU"
  },
  "cells": [
    {
      "cell_type": "code",
      "metadata": {
        "id": "_pMURGuSz48v",
        "colab_type": "code",
        "colab": {}
      },
      "source": [
        "#here we will write our training and testing data\n",
        "from keras.datasets import cifar10 \n",
        "from keras.utils import to_categorical\n",
        "(X_train,Y_train),(X_test,Y_test)=cifar10.load_data()\n",
        "X_train=X_train/255\n",
        "X_test=X_test/255\n",
        "Y_train =to_categorical(Y_train,num_classes=10)"
      ],
      "execution_count": 10,
      "outputs": []
    },
    {
      "cell_type": "code",
      "metadata": {
        "id": "a58HVdT_0ZtG",
        "colab_type": "code",
        "colab": {}
      },
      "source": [
        "input_shape_for_model=X_train[0,:,:,:].shape"
      ],
      "execution_count": 11,
      "outputs": []
    },
    {
      "cell_type": "code",
      "metadata": {
        "id": "tN2t92FP03Nd",
        "colab_type": "code",
        "colab": {}
      },
      "source": [
        "from keras.models import Input,Model\n",
        "input=Input(shape=input_shape_for_model)"
      ],
      "execution_count": 12,
      "outputs": []
    },
    {
      "cell_type": "markdown",
      "metadata": {
        "id": "ZHTyCa6j1F0J",
        "colab_type": "text"
      },
      "source": [
        "ConvPool-CNN-C"
      ]
    },
    {
      "cell_type": "code",
      "metadata": {
        "id": "dKeJtw4d1I-3",
        "colab_type": "code",
        "colab": {}
      },
      "source": [
        "from tensorflow.python.framework.ops import Tensor\n",
        "from keras.layers import Conv2D,Dropout,Activation,Average,MaxPooling2D,GlobalAveragePooling2D,BatchNormalization\n",
        "from keras.losses import categorical_crossentropy\n",
        "from keras.optimizers import Adam\n",
        "def ConvPool_CNN_C(model_input :Tensor):\n",
        "  x=Conv2D(96,kernel_size=(3,3),activation='relu',padding='same')(model_input)\n",
        "  x=Conv2D(96,kernel_size=(3,3),activation='relu',padding='same')(x)\n",
        "  x=Conv2D(96,kernel_size=(3,3),activation='relu',padding='same')(x)\n",
        "  x=MaxPooling2D(pool_size=(3,3),strides=2)(x)\n",
        "  x=Conv2D(192,(3,3),activation='relu',padding='same')(x)\n",
        "  x=Conv2D(192,(3,3),activation='relu',padding='same')(x)\n",
        "  x=Conv2D(192,(3,3),activation='relu',padding='same')(x)\n",
        "  x=MaxPooling2D(pool_size=(3,3),strides=2)(x)\n",
        "  x=Conv2D(192,(3,3),activation='relu',padding='same')(x)\n",
        "  x=Conv2D(192,(1,1),activation='relu')(x)\n",
        "  x=Conv2D(10,(1,1))(x)\n",
        "  x=GlobalAveragePooling2D()(x)\n",
        "  x=Activation(activation='softmax')(x)\n",
        "  my_model=Model(model_input,x,name='ConvPool_CNN_C')\n",
        "  return my_model"
      ],
      "execution_count": 13,
      "outputs": []
    },
    {
      "cell_type": "code",
      "metadata": {
        "id": "9ZrK1VHj1QLl",
        "colab_type": "code",
        "colab": {}
      },
      "source": [
        "ConvPool_CNN_model=ConvPool_CNN_C(input)\n",
        "from keras.callbacks import ModelCheckpoint, TensorBoard"
      ],
      "execution_count": 14,
      "outputs": []
    },
    {
      "cell_type": "code",
      "metadata": {
        "id": "VaJNCAVe3ZJq",
        "colab_type": "code",
        "colab": {}
      },
      "source": [
        "def Train_Model(model,num_epochs=25):\n",
        "  model.compile(optimizer='adam',loss='categorical_crossentropy',metrics=['accuracy'])\n",
        "  filepath = 'weights/' + model.name + '.{epoch:02d}-{loss:.2f}.hdf5'\n",
        "  checkpoint = ModelCheckpoint(filepath, monitor='loss', verbose=0, save_weights_only=True,\n",
        "                                                 save_best_only=True, mode='auto', period=1)\n",
        "  tensor_board = TensorBoard(log_dir='logs/', histogram_freq=0, batch_size=32)\n",
        "  history = model.fit(x=X_train, y=Y_train, batch_size=32, \n",
        "                     epochs=num_epochs, verbose=1, callbacks=[checkpoint, tensor_board], validation_split=0.2)\n",
        "  weight_files=glob.glob(os.path.join(os.getcwd(),'weights/*'))\n",
        "  weight_file=max(weight_files,weight_files)\n",
        "  return weight_file"
      ],
      "execution_count": 15,
      "outputs": []
    },
    {
      "cell_type": "code",
      "metadata": {
        "id": "lR9-PbAf4Z48",
        "colab_type": "code",
        "colab": {
          "base_uri": "https://localhost:8080/",
          "height": 950
        },
        "outputId": "2ab504d5-c497-4e83-9b8d-70f8f773babb"
      },
      "source": [
        "import glob\n",
        "import os\n",
        "weight_file=Train_Model(ConvPool_CNN_model)"
      ],
      "execution_count": 16,
      "outputs": [
        {
          "output_type": "stream",
          "text": [
            "WARNING:tensorflow:`period` argument is deprecated. Please use `save_freq` to specify the frequency in number of batches seen.\n",
            "WARNING:tensorflow:`batch_size` is no longer needed in the `TensorBoard` Callback and will be ignored in TensorFlow 2.0.\n",
            "Epoch 1/25\n",
            "   2/1250 [..............................] - ETA: 1:01 - loss: 2.3043 - accuracy: 0.0312WARNING:tensorflow:Callbacks method `on_train_batch_end` is slow compared to the batch time (batch time: 0.0125s vs `on_train_batch_end` time: 0.0709s). Check your callbacks.\n",
            "1250/1250 [==============================] - 20s 16ms/step - loss: 1.9279 - accuracy: 0.2575 - val_loss: 1.6418 - val_accuracy: 0.3891\n",
            "Epoch 2/25\n",
            "1250/1250 [==============================] - 21s 16ms/step - loss: 1.4482 - accuracy: 0.4627 - val_loss: 1.3462 - val_accuracy: 0.4977\n",
            "Epoch 3/25\n",
            "1250/1250 [==============================] - 20s 16ms/step - loss: 1.1785 - accuracy: 0.5755 - val_loss: 1.1351 - val_accuracy: 0.5956\n",
            "Epoch 4/25\n",
            "1250/1250 [==============================] - 20s 16ms/step - loss: 0.9822 - accuracy: 0.6512 - val_loss: 0.9852 - val_accuracy: 0.6537\n",
            "Epoch 5/25\n",
            "1250/1250 [==============================] - 20s 16ms/step - loss: 0.8492 - accuracy: 0.6984 - val_loss: 0.8926 - val_accuracy: 0.6816\n",
            "Epoch 6/25\n",
            "1250/1250 [==============================] - 20s 16ms/step - loss: 0.7380 - accuracy: 0.7401 - val_loss: 0.8301 - val_accuracy: 0.7093\n",
            "Epoch 7/25\n",
            "1250/1250 [==============================] - 20s 16ms/step - loss: 0.6513 - accuracy: 0.7705 - val_loss: 0.7367 - val_accuracy: 0.7469\n",
            "Epoch 8/25\n",
            "1250/1250 [==============================] - 20s 16ms/step - loss: 0.5812 - accuracy: 0.7978 - val_loss: 0.8016 - val_accuracy: 0.7311\n",
            "Epoch 9/25\n",
            "1250/1250 [==============================] - 20s 16ms/step - loss: 0.5098 - accuracy: 0.8206 - val_loss: 0.7811 - val_accuracy: 0.7364\n",
            "Epoch 10/25\n",
            "1250/1250 [==============================] - 20s 16ms/step - loss: 0.4441 - accuracy: 0.8440 - val_loss: 0.7263 - val_accuracy: 0.7607\n",
            "Epoch 11/25\n",
            "1250/1250 [==============================] - 20s 16ms/step - loss: 0.3849 - accuracy: 0.8652 - val_loss: 0.7911 - val_accuracy: 0.7552\n",
            "Epoch 12/25\n",
            "1250/1250 [==============================] - 20s 16ms/step - loss: 0.3383 - accuracy: 0.8796 - val_loss: 0.7975 - val_accuracy: 0.7668\n",
            "Epoch 13/25\n",
            "1250/1250 [==============================] - 20s 16ms/step - loss: 0.2890 - accuracy: 0.8984 - val_loss: 0.8368 - val_accuracy: 0.7648\n",
            "Epoch 14/25\n",
            "1250/1250 [==============================] - 20s 16ms/step - loss: 0.2530 - accuracy: 0.9081 - val_loss: 0.9374 - val_accuracy: 0.7495\n",
            "Epoch 15/25\n",
            "1250/1250 [==============================] - 20s 16ms/step - loss: 0.2245 - accuracy: 0.9180 - val_loss: 0.9246 - val_accuracy: 0.7662\n",
            "Epoch 16/25\n",
            "1250/1250 [==============================] - 20s 16ms/step - loss: 0.1960 - accuracy: 0.9303 - val_loss: 0.9705 - val_accuracy: 0.7625\n",
            "Epoch 17/25\n",
            "1250/1250 [==============================] - 20s 16ms/step - loss: 0.1813 - accuracy: 0.9354 - val_loss: 1.0109 - val_accuracy: 0.7646\n",
            "Epoch 18/25\n",
            "1250/1250 [==============================] - 20s 16ms/step - loss: 0.1600 - accuracy: 0.9441 - val_loss: 1.0728 - val_accuracy: 0.7619\n",
            "Epoch 19/25\n",
            "1250/1250 [==============================] - 20s 16ms/step - loss: 0.1533 - accuracy: 0.9466 - val_loss: 1.1148 - val_accuracy: 0.7614\n",
            "Epoch 20/25\n",
            "1250/1250 [==============================] - 20s 16ms/step - loss: 0.1542 - accuracy: 0.9456 - val_loss: 1.2281 - val_accuracy: 0.7437\n",
            "Epoch 21/25\n",
            "1250/1250 [==============================] - 20s 16ms/step - loss: 0.1468 - accuracy: 0.9472 - val_loss: 1.1550 - val_accuracy: 0.7624\n",
            "Epoch 22/25\n",
            "1250/1250 [==============================] - 20s 16ms/step - loss: 0.1412 - accuracy: 0.9504 - val_loss: 1.1205 - val_accuracy: 0.7600\n",
            "Epoch 23/25\n",
            "1250/1250 [==============================] - 20s 16ms/step - loss: 0.1381 - accuracy: 0.9516 - val_loss: 1.3281 - val_accuracy: 0.7499\n",
            "Epoch 24/25\n",
            "1250/1250 [==============================] - 21s 16ms/step - loss: 0.1284 - accuracy: 0.9548 - val_loss: 1.2478 - val_accuracy: 0.7678\n",
            "Epoch 25/25\n",
            "1250/1250 [==============================] - 20s 16ms/step - loss: 0.1255 - accuracy: 0.9574 - val_loss: 1.3266 - val_accuracy: 0.7620\n"
          ],
          "name": "stdout"
        }
      ]
    },
    {
      "cell_type": "code",
      "metadata": {
        "id": "Akv-GjCG5Ks7",
        "colab_type": "code",
        "colab": {}
      },
      "source": [
        "def error(model):\n",
        "  predict=model.predict(X_test,batch_size=32)\n",
        "  predict=np.argmax(predict,axis=1)\n",
        "  predict=np.expand_dims(predict,axis=1)\n",
        "  error=np.sum(np.not_equal(predict,Y_test))/Y_test.shape[0]\n",
        "  return error"
      ],
      "execution_count": 17,
      "outputs": []
    },
    {
      "cell_type": "code",
      "metadata": {
        "id": "iZ5mi_KV6Fae",
        "colab_type": "code",
        "colab": {
          "base_uri": "https://localhost:8080/",
          "height": 34
        },
        "outputId": "b8399702-9c9d-4bdb-d41c-e1458982c7ff"
      },
      "source": [
        "import numpy as np\n",
        "try:\n",
        "  weight_file\n",
        "except NameError:\n",
        "  ConvPool_CNN_model.load_weights(weight_file)\n",
        "error(ConvPool_CNN_model)"
      ],
      "execution_count": 18,
      "outputs": [
        {
          "output_type": "execute_result",
          "data": {
            "text/plain": [
              "0.2414"
            ]
          },
          "metadata": {
            "tags": []
          },
          "execution_count": 18
        }
      ]
    },
    {
      "cell_type": "markdown",
      "metadata": {
        "id": "uvvMzxe_dcQ3",
        "colab_type": "text"
      },
      "source": [
        "ALL-CNN-C"
      ]
    },
    {
      "cell_type": "code",
      "metadata": {
        "id": "FYBuBnZxdfU-",
        "colab_type": "code",
        "colab": {}
      },
      "source": [
        "def all_cnn_c(model_input:Tensor):\n",
        "  x=Conv2D(96,kernel_size=(3,3),activation='relu',padding='same')(model_input)\n",
        "  x=Conv2D(96,kernel_size=(3,3),activation='relu',padding='same')(x)\n",
        "  x=Conv2D(96,kernel_size=(3,3),activation='relu',padding='same',strides=2)(x)\n",
        "  x=Conv2D(192,(3,3),activation='relu',padding='same')(x)\n",
        "  x=Conv2D(192,(3,3),activation='relu',padding='same')(x)\n",
        "  x=Conv2D(192,(3,3),activation='relu',padding='same',strides=2)(x)\n",
        "  x=Conv2D(192,(3,3),activation='relu',padding='same')(x)\n",
        "  x=Conv2D(192,(1,1),activation='relu')(x)\n",
        "  x=Conv2D(10,(1,1))(x)\n",
        "  x=GlobalAveragePooling2D()(x)\n",
        "  x=Activation(activation='softmax')(x)\n",
        "  model=Model(model_input,x,name='all_cnn')\n",
        "  return model"
      ],
      "execution_count": 19,
      "outputs": []
    },
    {
      "cell_type": "code",
      "metadata": {
        "id": "9snXZw12fOx1",
        "colab_type": "code",
        "colab": {}
      },
      "source": [
        "all_cnn_model=all_cnn_c(input)"
      ],
      "execution_count": 20,
      "outputs": []
    },
    {
      "cell_type": "code",
      "metadata": {
        "id": "CZGYIF9mfU6d",
        "colab_type": "code",
        "colab": {
          "base_uri": "https://localhost:8080/",
          "height": 950
        },
        "outputId": "76023556-497d-48b9-df58-2b1efca209da"
      },
      "source": [
        "all_cnn_weight_file=Train_Model(all_cnn_model)"
      ],
      "execution_count": 21,
      "outputs": [
        {
          "output_type": "stream",
          "text": [
            "WARNING:tensorflow:`period` argument is deprecated. Please use `save_freq` to specify the frequency in number of batches seen.\n",
            "WARNING:tensorflow:`batch_size` is no longer needed in the `TensorBoard` Callback and will be ignored in TensorFlow 2.0.\n",
            "Epoch 1/25\n",
            "   2/1250 [..............................] - ETA: 48s - loss: 2.3042 - accuracy: 0.1094WARNING:tensorflow:Callbacks method `on_train_batch_end` is slow compared to the batch time (batch time: 0.0098s vs `on_train_batch_end` time: 0.0668s). Check your callbacks.\n",
            "1250/1250 [==============================] - 19s 15ms/step - loss: 1.7921 - accuracy: 0.3133 - val_loss: 1.5435 - val_accuracy: 0.4235\n",
            "Epoch 2/25\n",
            "1250/1250 [==============================] - 19s 15ms/step - loss: 1.3658 - accuracy: 0.4982 - val_loss: 1.1920 - val_accuracy: 0.5574\n",
            "Epoch 3/25\n",
            "1250/1250 [==============================] - 19s 15ms/step - loss: 1.1047 - accuracy: 0.6026 - val_loss: 1.0454 - val_accuracy: 0.6201\n",
            "Epoch 4/25\n",
            "1250/1250 [==============================] - 19s 15ms/step - loss: 0.9207 - accuracy: 0.6739 - val_loss: 0.8648 - val_accuracy: 0.6964\n",
            "Epoch 5/25\n",
            "1250/1250 [==============================] - 19s 15ms/step - loss: 0.7805 - accuracy: 0.7271 - val_loss: 0.8569 - val_accuracy: 0.6988\n",
            "Epoch 6/25\n",
            "1250/1250 [==============================] - 19s 15ms/step - loss: 0.6675 - accuracy: 0.7665 - val_loss: 0.7919 - val_accuracy: 0.7335\n",
            "Epoch 7/25\n",
            "1250/1250 [==============================] - 19s 15ms/step - loss: 0.5649 - accuracy: 0.8015 - val_loss: 0.7266 - val_accuracy: 0.7572\n",
            "Epoch 8/25\n",
            "1250/1250 [==============================] - 19s 15ms/step - loss: 0.4730 - accuracy: 0.8351 - val_loss: 0.7537 - val_accuracy: 0.7489\n",
            "Epoch 9/25\n",
            "1250/1250 [==============================] - 19s 15ms/step - loss: 0.3831 - accuracy: 0.8661 - val_loss: 0.7447 - val_accuracy: 0.7687\n",
            "Epoch 10/25\n",
            "1250/1250 [==============================] - 19s 15ms/step - loss: 0.3019 - accuracy: 0.8923 - val_loss: 0.7819 - val_accuracy: 0.7683\n",
            "Epoch 11/25\n",
            "1250/1250 [==============================] - 19s 15ms/step - loss: 0.2414 - accuracy: 0.9145 - val_loss: 0.8760 - val_accuracy: 0.7596\n",
            "Epoch 12/25\n",
            "1250/1250 [==============================] - 19s 15ms/step - loss: 0.1943 - accuracy: 0.9319 - val_loss: 0.9965 - val_accuracy: 0.7485\n",
            "Epoch 13/25\n",
            "1250/1250 [==============================] - 19s 15ms/step - loss: 0.1638 - accuracy: 0.9419 - val_loss: 1.0341 - val_accuracy: 0.7418\n",
            "Epoch 14/25\n",
            "1250/1250 [==============================] - 19s 15ms/step - loss: 0.1387 - accuracy: 0.9514 - val_loss: 1.1983 - val_accuracy: 0.7638\n",
            "Epoch 15/25\n",
            "1250/1250 [==============================] - 19s 15ms/step - loss: 0.1321 - accuracy: 0.9543 - val_loss: 1.2468 - val_accuracy: 0.7432\n",
            "Epoch 16/25\n",
            "1250/1250 [==============================] - 19s 15ms/step - loss: 0.1221 - accuracy: 0.9574 - val_loss: 1.0798 - val_accuracy: 0.7634\n",
            "Epoch 17/25\n",
            "1250/1250 [==============================] - 19s 15ms/step - loss: 0.1122 - accuracy: 0.9614 - val_loss: 1.3330 - val_accuracy: 0.7427\n",
            "Epoch 18/25\n",
            "1250/1250 [==============================] - 19s 15ms/step - loss: 0.1097 - accuracy: 0.9614 - val_loss: 1.1480 - val_accuracy: 0.7620\n",
            "Epoch 19/25\n",
            "1250/1250 [==============================] - 19s 15ms/step - loss: 0.0984 - accuracy: 0.9662 - val_loss: 1.3333 - val_accuracy: 0.7524\n",
            "Epoch 20/25\n",
            "1250/1250 [==============================] - 19s 15ms/step - loss: 0.1002 - accuracy: 0.9653 - val_loss: 1.3935 - val_accuracy: 0.7467\n",
            "Epoch 21/25\n",
            "1250/1250 [==============================] - 19s 15ms/step - loss: 0.0951 - accuracy: 0.9686 - val_loss: 1.3574 - val_accuracy: 0.7557\n",
            "Epoch 22/25\n",
            "1250/1250 [==============================] - 19s 15ms/step - loss: 0.0896 - accuracy: 0.9701 - val_loss: 1.4328 - val_accuracy: 0.7399\n",
            "Epoch 23/25\n",
            "1250/1250 [==============================] - 19s 15ms/step - loss: 0.0917 - accuracy: 0.9687 - val_loss: 1.4010 - val_accuracy: 0.7594\n",
            "Epoch 24/25\n",
            "1250/1250 [==============================] - 19s 15ms/step - loss: 0.0908 - accuracy: 0.9697 - val_loss: 1.4872 - val_accuracy: 0.7354\n",
            "Epoch 25/25\n",
            "1250/1250 [==============================] - 19s 15ms/step - loss: 0.0859 - accuracy: 0.9709 - val_loss: 1.4797 - val_accuracy: 0.7400\n"
          ],
          "name": "stdout"
        }
      ]
    },
    {
      "cell_type": "code",
      "metadata": {
        "id": "76pZbapofiLF",
        "colab_type": "code",
        "colab": {
          "base_uri": "https://localhost:8080/",
          "height": 34
        },
        "outputId": "56ec22d4-5974-478f-d09c-e84283c90d67"
      },
      "source": [
        "try:\n",
        "  all_cnn_weight_file\n",
        "except NameError:\n",
        "  all_cnn_model.load_weights(all_cnn_weight_file)\n",
        "error(all_cnn_model)"
      ],
      "execution_count": 22,
      "outputs": [
        {
          "output_type": "execute_result",
          "data": {
            "text/plain": [
              "0.2546"
            ]
          },
          "metadata": {
            "tags": []
          },
          "execution_count": 22
        }
      ]
    },
    {
      "cell_type": "code",
      "metadata": {
        "id": "pB_uwnbifxwA",
        "colab_type": "code",
        "colab": {}
      },
      "source": [
        ""
      ],
      "execution_count": 22,
      "outputs": []
    },
    {
      "cell_type": "markdown",
      "metadata": {
        "id": "9y2PEMq_g6JN",
        "colab_type": "text"
      },
      "source": [
        "Network in Network CNN"
      ]
    },
    {
      "cell_type": "code",
      "metadata": {
        "id": "CIUrgPErg_O2",
        "colab_type": "code",
        "colab": {}
      },
      "source": [
        "def NIN_CNN(model_input:Tensor):\n",
        "  x=Conv2D(32,(5,5),activation='relu',padding='valid')(model_input)\n",
        "  x=Conv2D(32,(1,1),activation='relu')(x)\n",
        "  x=Conv2D(32,(1,1),activation='relu')(x)\n",
        "  x=MaxPooling2D(2,2)(x)\n",
        "  x=Dropout(0.5)(x)\n",
        "  x=Conv2D(64,(3,3),activation='relu',padding='valid')(x)\n",
        "  x=Conv2D(64,(1,1),activation='relu')(x)\n",
        "  x=Conv2D(64,(1,1),activation='relu')(x)\n",
        "  x=MaxPooling2D(2,2)(x)\n",
        "  x=Dropout(0.5)(x)\n",
        "  x=Conv2D(128,(3,3),activation='relu',padding='valid')(x)\n",
        "  x=Conv2D(32,(1,1),activation='relu')(x)\n",
        "  x=Conv2D(10,(1,1),activation='relu')(x)\n",
        "  x=GlobalAveragePooling2D()(x)\n",
        "  x=Activation(activation='softmax')(x)\n",
        "  model=Model(model_input,x,name='nin_cnn')\n",
        "  return model\n"
      ],
      "execution_count": 23,
      "outputs": []
    },
    {
      "cell_type": "code",
      "metadata": {
        "id": "O8e4ViZalDo0",
        "colab_type": "code",
        "colab": {}
      },
      "source": [
        "NIN_CNN_Model=NIN_CNN(input)"
      ],
      "execution_count": 24,
      "outputs": []
    },
    {
      "cell_type": "code",
      "metadata": {
        "id": "oQBTtsHhlXxo",
        "colab_type": "code",
        "colab": {
          "base_uri": "https://localhost:8080/",
          "height": 950
        },
        "outputId": "b68199b6-ac10-4af7-fec8-4fd51c794669"
      },
      "source": [
        "Nin_cnn_weight_file=Train_Model(NIN_CNN_Model)"
      ],
      "execution_count": 25,
      "outputs": [
        {
          "output_type": "stream",
          "text": [
            "WARNING:tensorflow:`period` argument is deprecated. Please use `save_freq` to specify the frequency in number of batches seen.\n",
            "WARNING:tensorflow:`batch_size` is no longer needed in the `TensorBoard` Callback and will be ignored in TensorFlow 2.0.\n",
            "Epoch 1/25\n",
            "   2/1250 [..............................] - ETA: 57s - loss: 2.3053 - accuracy: 0.0781WARNING:tensorflow:Callbacks method `on_train_batch_end` is slow compared to the batch time (batch time: 0.0104s vs `on_train_batch_end` time: 0.0799s). Check your callbacks.\n",
            "1250/1250 [==============================] - 7s 6ms/step - loss: 1.9946 - accuracy: 0.2604 - val_loss: 1.7891 - val_accuracy: 0.3480\n",
            "Epoch 2/25\n",
            "1250/1250 [==============================] - 7s 5ms/step - loss: 1.6158 - accuracy: 0.4062 - val_loss: 1.4875 - val_accuracy: 0.4547\n",
            "Epoch 3/25\n",
            "1250/1250 [==============================] - 7s 5ms/step - loss: 1.4860 - accuracy: 0.4577 - val_loss: 1.3730 - val_accuracy: 0.5076\n",
            "Epoch 4/25\n",
            "1250/1250 [==============================] - 7s 5ms/step - loss: 1.3957 - accuracy: 0.4961 - val_loss: 1.3425 - val_accuracy: 0.5157\n",
            "Epoch 5/25\n",
            "1250/1250 [==============================] - 7s 5ms/step - loss: 1.3315 - accuracy: 0.5196 - val_loss: 1.2348 - val_accuracy: 0.5667\n",
            "Epoch 6/25\n",
            "1250/1250 [==============================] - 7s 5ms/step - loss: 1.2840 - accuracy: 0.5399 - val_loss: 1.2658 - val_accuracy: 0.5443\n",
            "Epoch 7/25\n",
            "1250/1250 [==============================] - 7s 6ms/step - loss: 1.2445 - accuracy: 0.5546 - val_loss: 1.1808 - val_accuracy: 0.5798\n",
            "Epoch 8/25\n",
            "1250/1250 [==============================] - 6s 5ms/step - loss: 1.2052 - accuracy: 0.5702 - val_loss: 1.1759 - val_accuracy: 0.5825\n",
            "Epoch 9/25\n",
            "1250/1250 [==============================] - 7s 5ms/step - loss: 1.1699 - accuracy: 0.5892 - val_loss: 1.0677 - val_accuracy: 0.6204\n",
            "Epoch 10/25\n",
            "1250/1250 [==============================] - 7s 5ms/step - loss: 1.1405 - accuracy: 0.5949 - val_loss: 1.0734 - val_accuracy: 0.6164\n",
            "Epoch 11/25\n",
            "1250/1250 [==============================] - 7s 5ms/step - loss: 1.1138 - accuracy: 0.6066 - val_loss: 1.0258 - val_accuracy: 0.6405\n",
            "Epoch 12/25\n",
            "1250/1250 [==============================] - 7s 5ms/step - loss: 1.1053 - accuracy: 0.6062 - val_loss: 1.0686 - val_accuracy: 0.6187\n",
            "Epoch 13/25\n",
            "1250/1250 [==============================] - 7s 5ms/step - loss: 1.0778 - accuracy: 0.6183 - val_loss: 1.0124 - val_accuracy: 0.6415\n",
            "Epoch 14/25\n",
            "1250/1250 [==============================] - 7s 6ms/step - loss: 1.0606 - accuracy: 0.6257 - val_loss: 1.0012 - val_accuracy: 0.6485\n",
            "Epoch 15/25\n",
            "1250/1250 [==============================] - 7s 5ms/step - loss: 1.0521 - accuracy: 0.6269 - val_loss: 0.9671 - val_accuracy: 0.6619\n",
            "Epoch 16/25\n",
            "1250/1250 [==============================] - 7s 6ms/step - loss: 1.0312 - accuracy: 0.6347 - val_loss: 0.9832 - val_accuracy: 0.6525\n",
            "Epoch 17/25\n",
            "1250/1250 [==============================] - 7s 6ms/step - loss: 1.0196 - accuracy: 0.6397 - val_loss: 0.9666 - val_accuracy: 0.6573\n",
            "Epoch 18/25\n",
            "1250/1250 [==============================] - 7s 6ms/step - loss: 1.0053 - accuracy: 0.6446 - val_loss: 0.9764 - val_accuracy: 0.6593\n",
            "Epoch 19/25\n",
            "1250/1250 [==============================] - 7s 5ms/step - loss: 0.9881 - accuracy: 0.6505 - val_loss: 0.9326 - val_accuracy: 0.6783\n",
            "Epoch 20/25\n",
            "1250/1250 [==============================] - 7s 6ms/step - loss: 0.9835 - accuracy: 0.6528 - val_loss: 0.9446 - val_accuracy: 0.6709\n",
            "Epoch 21/25\n",
            "1250/1250 [==============================] - 7s 6ms/step - loss: 0.9733 - accuracy: 0.6564 - val_loss: 0.9612 - val_accuracy: 0.6661\n",
            "Epoch 22/25\n",
            "1250/1250 [==============================] - 7s 6ms/step - loss: 0.9658 - accuracy: 0.6581 - val_loss: 0.9353 - val_accuracy: 0.6742\n",
            "Epoch 23/25\n",
            "1250/1250 [==============================] - 7s 5ms/step - loss: 0.9506 - accuracy: 0.6635 - val_loss: 0.9215 - val_accuracy: 0.6778\n",
            "Epoch 24/25\n",
            "1250/1250 [==============================] - 7s 6ms/step - loss: 0.9513 - accuracy: 0.6652 - val_loss: 0.8972 - val_accuracy: 0.6834\n",
            "Epoch 25/25\n",
            "1250/1250 [==============================] - 7s 6ms/step - loss: 0.9358 - accuracy: 0.6695 - val_loss: 0.8561 - val_accuracy: 0.7005\n"
          ],
          "name": "stdout"
        }
      ]
    },
    {
      "cell_type": "code",
      "metadata": {
        "id": "5Kr2rNiQlgdu",
        "colab_type": "code",
        "colab": {
          "base_uri": "https://localhost:8080/",
          "height": 34
        },
        "outputId": "e0e926a4-aad7-44f6-d779-ebe565fcf748"
      },
      "source": [
        "try:\n",
        "  Nin_cnn_weight_file\n",
        "except NameError:\n",
        "  NIN_CNN_Model.load_weights(Nin_cnn_weight_file)\n",
        "error(NIN_CNN_Model)"
      ],
      "execution_count": 26,
      "outputs": [
        {
          "output_type": "execute_result",
          "data": {
            "text/plain": [
              "0.3063"
            ]
          },
          "metadata": {
            "tags": []
          },
          "execution_count": 26
        }
      ]
    },
    {
      "cell_type": "code",
      "metadata": {
        "id": "GfMi4ZjAmaw2",
        "colab_type": "code",
        "colab": {}
      },
      "source": [
        ""
      ],
      "execution_count": 26,
      "outputs": []
    },
    {
      "cell_type": "markdown",
      "metadata": {
        "id": "uOBP74SdnIZp",
        "colab_type": "text"
      },
      "source": [
        "Three Model Using Ensemble"
      ]
    },
    {
      "cell_type": "code",
      "metadata": {
        "id": "vQBWXajenNSu",
        "colab_type": "code",
        "colab": {}
      },
      "source": [
        "Models=[ConvPool_CNN_model,all_cnn_model,NIN_CNN_Model]\n"
      ],
      "execution_count": 27,
      "outputs": []
    },
    {
      "cell_type": "code",
      "metadata": {
        "id": "OPAr88PWqrui",
        "colab_type": "code",
        "colab": {}
      },
      "source": [
        "from typing import Tuple,List\n",
        "def ensemble(models:List[Model],input:Tensor):\n",
        "  outputs=[model.outputs[0] for model in models]\n",
        "  y=Average()(outputs)\n",
        "  model=Model(input,y,name='ensemble_model')\n",
        "  return model"
      ],
      "execution_count": 28,
      "outputs": []
    },
    {
      "cell_type": "code",
      "metadata": {
        "id": "tttlbeQGrtNc",
        "colab_type": "code",
        "colab": {}
      },
      "source": [
        "ensemble_Model=ensemble(Models,input)"
      ],
      "execution_count": 29,
      "outputs": []
    },
    {
      "cell_type": "code",
      "metadata": {
        "id": "JDxUl4fLsCNc",
        "colab_type": "code",
        "colab": {
          "base_uri": "https://localhost:8080/",
          "height": 34
        },
        "outputId": "208ab03e-72f1-4942-96fa-2681f8ec027b"
      },
      "source": [
        "error(ensemble_Model)#the error is lowest than individual models"
      ],
      "execution_count": 30,
      "outputs": [
        {
          "output_type": "execute_result",
          "data": {
            "text/plain": [
              "0.1979"
            ]
          },
          "metadata": {
            "tags": []
          },
          "execution_count": 30
        }
      ]
    },
    {
      "cell_type": "code",
      "metadata": {
        "id": "A2j7EINSsFe1",
        "colab_type": "code",
        "colab": {}
      },
      "source": [
        ""
      ],
      "execution_count": 30,
      "outputs": []
    }
  ]
}